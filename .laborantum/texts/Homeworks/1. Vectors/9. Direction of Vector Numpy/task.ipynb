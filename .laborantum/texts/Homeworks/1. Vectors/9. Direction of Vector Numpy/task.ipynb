{
 "cells": [
  {
   "cell_type": "code",
   "execution_count": 4,
   "metadata": {
    "deletable": false,
    "editable": false
   },
   "outputs": [
    {
     "name": "stdout",
     "output_type": "stream",
     "text": [
      "\u001b[33mWARNING: You are using pip version 21.2.4; however, version 24.0 is available.\n",
      "You should consider upgrading via the '/Library/Developer/CommandLineTools/usr/bin/python3 -m pip install --upgrade pip' command.\u001b[0m\n"
     ]
    }
   ],
   "source": [
    "%reload_ext autoreload\n",
    "%autoreload 2\n",
    "\n",
    "import sys\n",
    "import os\n",
    "from pathlib import Path\n",
    "\n",
    "path = Path('.').resolve()\n",
    "\n",
    "index = str(path).find('.laborantum')\n",
    "\n",
    "if index > 0:\n",
    "    path = str(path)[:index]\n",
    "\n",
    "os.chdir(path)\n",
    "\n",
    "!{sys.executable} -m pip -q install --user numpy json-tricks torch jupyter nbconvert"
   ]
  },
  {
   "cell_type": "code",
   "execution_count": 5,
   "metadata": {},
   "outputs": [],
   "source": [
    "import json_tricks\n",
    "\n",
    "path = Path('.laborantum/texts/Homeworks/1. Vectors/9. Direction of Vector Numpy')"
   ]
  },
  {
   "cell_type": "code",
   "execution_count": 6,
   "metadata": {},
   "outputs": [],
   "source": [
    "debug_cases = json_tricks.load(str(path / 'testcases' / 'debug_cases.json'))\n",
    "public_cases = json_tricks.load(str(path / 'testcases' / 'public_cases.json'))"
   ]
  },
  {
   "cell_type": "code",
   "execution_count": 7,
   "metadata": {},
   "outputs": [],
   "source": [
    "import numpy as np\n",
    "import numpy.typing as npt\n",
    "\n",
    "def vector_direction(x):\n",
    "    ## YOUR CODE HERE\n",
    "    return 0\n"
   ]
  },
  {
   "cell_type": "code",
   "execution_count": null,
   "metadata": {},
   "outputs": [],
   "source": []
  },
  {
   "cell_type": "code",
   "execution_count": 8,
   "metadata": {},
   "outputs": [
    {
     "name": "stdout",
     "output_type": "stream",
     "text": [
      "0.014417171478271484 <- Elapsed time\n"
     ]
    }
   ],
   "source": [
    "import time\n",
    "\n",
    "start = time.time()\n",
    "\n",
    "debug_result = [vector_direction(**x) for x in debug_cases]\n",
    "answer = [vector_direction(**x) for x in public_cases]\n",
    "\n",
    "print(time.time() - start, '<- Elapsed time')"
   ]
  }
 ],
 "metadata": {
  "kernelspec": {
   "display_name": "Python 3",
   "language": "python",
   "name": "python3"
  },
  "language_info": {
   "codemirror_mode": {
    "name": "ipython",
    "version": 3
   },
   "file_extension": ".py",
   "mimetype": "text/x-python",
   "name": "python",
   "nbconvert_exporter": "python",
   "pygments_lexer": "ipython3",
   "version": "3.9.6"
  }
 },
 "nbformat": 4,
 "nbformat_minor": 2
}
