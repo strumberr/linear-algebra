{
 "cells": [
  {
   "cell_type": "code",
   "execution_count": 8,
   "metadata": {
    "deletable": false,
    "editable": false
   },
   "outputs": [
    {
     "name": "stdout",
     "output_type": "stream",
     "text": [
      "\u001b[33mWARNING: You are using pip version 21.2.4; however, version 24.0 is available.\n",
      "You should consider upgrading via the '/Library/Developer/CommandLineTools/usr/bin/python3 -m pip install --upgrade pip' command.\u001b[0m\n"
     ]
    }
   ],
   "source": [
    "%reload_ext autoreload\n",
    "%autoreload 2\n",
    "\n",
    "import sys\n",
    "import os\n",
    "from pathlib import Path\n",
    "\n",
    "path = Path('.').resolve()\n",
    "\n",
    "index = str(path).find('.laborantum')\n",
    "\n",
    "if index > 0:\n",
    "    path = str(path)[:index]\n",
    "\n",
    "os.chdir(path)\n",
    "\n",
    "!{sys.executable} -m pip -q install --user numpy json-tricks torch jupyter nbconvert"
   ]
  },
  {
   "cell_type": "code",
   "execution_count": 9,
   "metadata": {},
   "outputs": [],
   "source": [
    "import json_tricks\n",
    "\n",
    "path = Path('.laborantum/texts/Homeworks/1. Vectors/30. Orthonormalisation Numpy')"
   ]
  },
  {
   "cell_type": "code",
   "execution_count": 10,
   "metadata": {},
   "outputs": [],
   "source": [
    "debug_cases = json_tricks.load(str(path / 'testcases' / 'debug_cases.json'))\n",
    "public_cases = json_tricks.load(str(path / 'testcases' / 'public_cases.json'))"
   ]
  },
  {
   "cell_type": "code",
   "execution_count": null,
   "metadata": {},
   "outputs": [],
   "source": [
    "import numpy as np\n",
    "\n",
    "def project(u, v):\n",
    "    return np.dot(u, v) / np.dot(v, v) * v\n",
    "\n",
    "def gram_schmidt(input_vectors):\n",
    "    \n",
    "    orthogonal_basis = []\n",
    "    \n",
    "    for vector in input_vectors:\n",
    "        \n",
    "        temp_vector = vector\n",
    "        \n",
    "        for basis_vector in orthogonal_basis:\n",
    "            temp_vector = temp_vector - project(vector, basis_vector)\n",
    "            \n",
    "        if np.linalg.norm(temp_vector) > 1e-6:\n",
    "            temp_vector = temp_vector / np.linalg.norm(temp_vector)\n",
    "            orthogonal_basis.append(temp_vector)\n",
    "    \n",
    "    return orthogonal_basis\n",
    "\n",
    "\n",
    "def orthonormalisation(vecs):\n",
    "    \n",
    "    return gram_schmidt(vecs)\n",
    "\n"
   ]
  },
  {
   "cell_type": "code",
   "execution_count": 12,
   "metadata": {},
   "outputs": [],
   "source": [
    "# import numpy\n",
    "# import json_tricks\n",
    "\n",
    "# numpy.random.seed(42)\n",
    "\n",
    "# debug_cases = []\n",
    "# for index in range(20):\n",
    "#     vecs = []\n",
    "#     n = numpy.random.randint(1, 10)\n",
    "#     shape = numpy.random.randint(1, 10)\n",
    "#     for index in range(n):\n",
    "#         x = numpy.random.randint(-10, 10, size=shape)\n",
    "#         vecs.append(x)\n",
    "#     debug_cases.append({'vecs': vecs})\n",
    "\n",
    "# with open('testcases/debug_cases.json', 'w+') as fin:\n",
    "#     fin.write(json_tricks.dumps(debug_cases))\n",
    "\n",
    "# public_cases = []\n",
    "# for index in range(100):\n",
    "#     vecs = []\n",
    "#     n = numpy.random.randint(1, 100)\n",
    "#     shape = numpy.random.randint(1, 100)\n",
    "#     for index in range(n):\n",
    "#         x = numpy.random.randn(shape)\n",
    "#         vecs.append(x)\n",
    "#     public_cases.append({'vecs': vecs})\n",
    "\n",
    "# with open('testcases/public_cases.json', 'w+') as fin:\n",
    "#     fin.write(json_tricks.dumps(public_cases))"
   ]
  },
  {
   "cell_type": "code",
   "execution_count": 13,
   "metadata": {},
   "outputs": [
    {
     "name": "stdout",
     "output_type": "stream",
     "text": [
      "0.33922505378723145 <- Elapsed time\n"
     ]
    }
   ],
   "source": [
    "import time\n",
    "\n",
    "start = time.time()\n",
    "\n",
    "debug_result = [orthonormalisation(**x) for x in debug_cases]\n",
    "answer = [orthonormalisation(**x) for x in public_cases]\n",
    "\n",
    "print(time.time() - start, '<- Elapsed time')"
   ]
  },
  {
   "cell_type": "code",
   "execution_count": 16,
   "metadata": {},
   "outputs": [
    {
     "ename": "FileNotFoundError",
     "evalue": "[Errno 2] No such file or directory: '~/test.json'",
     "output_type": "error",
     "traceback": [
      "\u001b[0;31m---------------------------------------------------------------------------\u001b[0m",
      "\u001b[0;31mFileNotFoundError\u001b[0m                         Traceback (most recent call last)",
      "Cell \u001b[0;32mIn[16], line 1\u001b[0m\n\u001b[0;32m----> 1\u001b[0m \u001b[43mjson_tricks\u001b[49m\u001b[38;5;241;43m.\u001b[39;49m\u001b[43mdump\u001b[49m\u001b[43m(\u001b[49m\u001b[43manswer\u001b[49m\u001b[43m,\u001b[49m\u001b[43m \u001b[49m\u001b[38;5;124;43m'\u001b[39;49m\u001b[38;5;124;43m~/test.json\u001b[39;49m\u001b[38;5;124;43m'\u001b[39;49m\u001b[43m)\u001b[49m\n",
      "File \u001b[0;32m~/Library/Python/3.9/lib/python/site-packages/json_tricks/nonp.py:158\u001b[0m, in \u001b[0;36mdump\u001b[0;34m(obj, fp, sort_keys, cls, obj_encoders, extra_obj_encoders, primitives, compression, force_flush, allow_nan, conv_str_byte, fallback_encoders, properties, **jsonkwargs)\u001b[0m\n\u001b[1;32m    156\u001b[0m \t\tfh \u001b[38;5;241m=\u001b[39m \u001b[38;5;28mopen\u001b[39m(fp, \u001b[38;5;124m'\u001b[39m\u001b[38;5;124mwb+\u001b[39m\u001b[38;5;124m'\u001b[39m)\n\u001b[1;32m    157\u001b[0m \t\u001b[38;5;28;01melse\u001b[39;00m:\n\u001b[0;32m--> 158\u001b[0m \t\tfh \u001b[38;5;241m=\u001b[39m \u001b[38;5;28;43mopen\u001b[39;49m\u001b[43m(\u001b[49m\u001b[43mfp\u001b[49m\u001b[43m,\u001b[49m\u001b[43m \u001b[49m\u001b[38;5;124;43m'\u001b[39;49m\u001b[38;5;124;43mw+\u001b[39;49m\u001b[38;5;124;43m'\u001b[39;49m\u001b[43m)\u001b[49m\n\u001b[1;32m    159\u001b[0m \u001b[38;5;28;01melse\u001b[39;00m:\n\u001b[1;32m    160\u001b[0m \tfh \u001b[38;5;241m=\u001b[39m fp\n",
      "\u001b[0;31mFileNotFoundError\u001b[0m: [Errno 2] No such file or directory: '~/test.json'"
     ]
    }
   ],
   "source": [
    "json_tricks.dump(answer, 'test.json')"
   ]
  },
  {
   "cell_type": "code",
   "execution_count": null,
   "metadata": {},
   "outputs": [],
   "source": []
  }
 ],
 "metadata": {
  "kernelspec": {
   "display_name": "Python 3",
   "language": "python",
   "name": "python3"
  },
  "language_info": {
   "codemirror_mode": {
    "name": "ipython",
    "version": 3
   },
   "file_extension": ".py",
   "mimetype": "text/x-python",
   "name": "python",
   "nbconvert_exporter": "python",
   "pygments_lexer": "ipython3",
   "version": "3.9.6"
  }
 },
 "nbformat": 4,
 "nbformat_minor": 2
}
