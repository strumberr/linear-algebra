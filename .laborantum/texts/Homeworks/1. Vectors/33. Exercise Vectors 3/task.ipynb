{
 "cells": [
  {
   "cell_type": "code",
   "execution_count": 6,
   "metadata": {
    "deletable": false,
    "editable": false
   },
   "outputs": [],
   "source": [
    "%reload_ext autoreload\n",
    "%autoreload 2\n",
    "\n",
    "import sys\n",
    "import os\n",
    "from pathlib import Path\n",
    "\n",
    "path = Path('.').resolve()\n",
    "\n",
    "index = str(path).find('.laborantum')\n",
    "\n",
    "if index > 0:\n",
    "    path = str(path)[:index]\n",
    "\n",
    "os.chdir(path)\n",
    "\n",
    "# !{sys.executable} -m pip -q install numpy json-tricks torch jupyter nbconvert"
   ]
  },
  {
   "cell_type": "code",
   "execution_count": 7,
   "metadata": {},
   "outputs": [],
   "source": [
    "import json_tricks\n",
    "\n",
    "path = Path('.laborantum/texts/Homeworks/1. Vectors/33. Exercise Vectors 3')"
   ]
  },
  {
   "cell_type": "code",
   "execution_count": 8,
   "metadata": {},
   "outputs": [],
   "source": [
    "debug_cases = json_tricks.load(str(path / 'testcases' / 'debug_cases.json'))\n",
    "public_cases = json_tricks.load(str(path / 'testcases' / 'public_cases.json'))"
   ]
  },
  {
   "cell_type": "code",
   "execution_count": 9,
   "metadata": {},
   "outputs": [],
   "source": [
    "import numpy as np\n",
    "import math as m\n",
    "import numpy.typing as npt\n",
    "from typing import Dict\n",
    "\n",
    "# functions for use later\n",
    "def dot_product(x, y):\n",
    "    dot_prod = 0\n",
    "    for a_val, b_val in zip(x, y):\n",
    "        dot_prod += a_val * b_val\n",
    "    return dot_prod\n",
    "\n",
    "def cos(a, b):\n",
    "    dot_prod = dot_product(a, b)\n",
    "    magnitude_a = m.sqrt(sum([val ** 2 for val in a]))\n",
    "    magnitude_b = m.sqrt(sum([val ** 2 for val in b]))\n",
    "    return float(dot_prod / (magnitude_a * magnitude_b))\n",
    "\n",
    "def magnitude(x):\n",
    "    return m.sqrt(sum([val ** 2 for val in x]))\n",
    "\n",
    "def vector_direction(x):\n",
    "    magnitude_x = magnitude(x)\n",
    "    direction = []\n",
    "    for x_val in x:\n",
    "        direction.append(x_val / magnitude_x)\n",
    "    return direction\n",
    "\n",
    "def projection(x, y):\n",
    "    return dot_product(x, y) / dot_product(y, y) * y\n",
    "\n",
    "def orthogonal(x, y):\n",
    "    return x - projection(x, y)\n",
    "\n",
    "\n",
    "def vector_operations(x, y):\n",
    "\n",
    "    answer = {\n",
    "        'expression': 1,\n",
    "        'dot_prod': 1,\n",
    "        'length_a': 1,\n",
    "        'length_b': 1,\n",
    "        'angle': 1,\n",
    "        'dir_a': 1,\n",
    "        'dir_b': 1,\n",
    "        'a_proj_b': 1,\n",
    "        'b_proj_a': 1,\n",
    "        'a_orth_b': 1,\n",
    "        'b_orth_a': 1\n",
    "    }\n",
    "        \n",
    "        \n",
    "    a = np.array(x)\n",
    "    b = np.array(y)\n",
    "\n",
    "\n",
    "    # 1\n",
    "    expression = []\n",
    "    for a_comp, b_comp in zip(a, b):\n",
    "        res = 2 * a_comp + b_comp\n",
    "        expression.append(res)\n",
    "    answer['expression'] = expression\n",
    "\n",
    "    # 2\n",
    "    answer['dot_prod'] = dot_product(a, b)\n",
    "\n",
    "    # 3\n",
    "    length_a = m.sqrt(sum([val ** 2 for val in a]))\n",
    "    length_b = m.sqrt(sum([val ** 2 for val in b]))\n",
    "    answer['length_a'] = length_a\n",
    "    answer['length_b'] = length_b\n",
    "\n",
    "    # 4\n",
    "    answer['angle'] = cos(a, b)\n",
    "\n",
    "    # 5\n",
    "    answer['dir_a'] = vector_direction(a)\n",
    "    answer['dir_b'] = vector_direction(b)\n",
    "\n",
    "    # 6\n",
    "    answer['a_proj_b'] = projection(a, b)\n",
    "    answer['b_proj_a'] = projection(b, a)\n",
    "\n",
    "    # 7\n",
    "    answer['a_orth_b'] = orthogonal(a, b)\n",
    "    answer['b_orth_a'] = orthogonal(b, a)\n",
    "\n",
    "\n",
    "    print(answer)\n",
    "\n",
    "    return np.array[answer['expression'], answer['dot_prod'], answer['length_a'], answer['length_b'], answer['angle'], answer['dir_a'], answer['dir_b'], answer['a_proj_b'], answer['b_proj_a'], answer['a_orth_b'], answer['b_orth_a']]\n"
   ]
  },
  {
   "cell_type": "code",
   "execution_count": 10,
   "metadata": {},
   "outputs": [
    {
     "name": "stdout",
     "output_type": "stream",
     "text": [
      "{'expression': [18, 1, -3, -14, -17, 17, -5], 'dot_prod': 40, 'length_a': 13.638181696985855, 'length_b': 15.132745950421556, 'angle': 0.19381428261837452, 'dir_a': [0.6599120175960899, 0.2932942300427066, 0.0, -0.21997067253202995, -0.2932942300427066, 0.5865884600854132, 0.0], 'dir_b': [0.0, -0.46257302031856284, -0.19824558013652693, -0.5286548803640718, -0.5947367404095808, 0.06608186004550898, -0.3304093002275449], 'a_proj_b': array([ 0.        , -1.22270742, -0.52401747, -1.39737991, -1.5720524 ,\n",
      "        0.17467249, -0.87336245]), 'b_proj_a': array([ 1.93548387,  0.86021505,  0.        , -0.64516129, -0.86021505,\n",
      "        1.72043011,  0.        ]), 'a_orth_b': array([ 9.        ,  5.22270742,  0.52401747, -1.60262009, -2.4279476 ,\n",
      "        7.82532751,  0.87336245]), 'b_orth_a': array([-1.93548387, -7.86021505, -3.        , -7.35483871, -8.13978495,\n",
      "       -0.72043011, -5.        ])}\n"
     ]
    },
    {
     "ename": "TypeError",
     "evalue": "'builtin_function_or_method' object is not subscriptable",
     "output_type": "error",
     "traceback": [
      "\u001b[0;31m---------------------------------------------------------------------------\u001b[0m",
      "\u001b[0;31mTypeError\u001b[0m                                 Traceback (most recent call last)",
      "Cell \u001b[0;32mIn[10], line 5\u001b[0m\n\u001b[1;32m      1\u001b[0m \u001b[38;5;28;01mimport\u001b[39;00m \u001b[38;5;21;01mtime\u001b[39;00m\n\u001b[1;32m      3\u001b[0m start \u001b[38;5;241m=\u001b[39m time\u001b[38;5;241m.\u001b[39mtime()\n\u001b[0;32m----> 5\u001b[0m debug_result \u001b[38;5;241m=\u001b[39m \u001b[43m[\u001b[49m\u001b[43mvector_operations\u001b[49m\u001b[43m(\u001b[49m\u001b[38;5;241;43m*\u001b[39;49m\u001b[38;5;241;43m*\u001b[39;49m\u001b[43mx\u001b[49m\u001b[43m)\u001b[49m\u001b[43m \u001b[49m\u001b[38;5;28;43;01mfor\u001b[39;49;00m\u001b[43m \u001b[49m\u001b[43mx\u001b[49m\u001b[43m \u001b[49m\u001b[38;5;129;43;01min\u001b[39;49;00m\u001b[43m \u001b[49m\u001b[43mdebug_cases\u001b[49m\u001b[43m]\u001b[49m\n\u001b[1;32m      6\u001b[0m answer \u001b[38;5;241m=\u001b[39m [vector_operations(\u001b[38;5;241m*\u001b[39m\u001b[38;5;241m*\u001b[39mx) \u001b[38;5;28;01mfor\u001b[39;00m x \u001b[38;5;129;01min\u001b[39;00m public_cases]\n\u001b[1;32m      8\u001b[0m \u001b[38;5;28mprint\u001b[39m(time\u001b[38;5;241m.\u001b[39mtime() \u001b[38;5;241m-\u001b[39m start, \u001b[38;5;124m'\u001b[39m\u001b[38;5;124m<- Elapsed time\u001b[39m\u001b[38;5;124m'\u001b[39m)\n",
      "Cell \u001b[0;32mIn[10], line 5\u001b[0m, in \u001b[0;36m<listcomp>\u001b[0;34m(.0)\u001b[0m\n\u001b[1;32m      1\u001b[0m \u001b[38;5;28;01mimport\u001b[39;00m \u001b[38;5;21;01mtime\u001b[39;00m\n\u001b[1;32m      3\u001b[0m start \u001b[38;5;241m=\u001b[39m time\u001b[38;5;241m.\u001b[39mtime()\n\u001b[0;32m----> 5\u001b[0m debug_result \u001b[38;5;241m=\u001b[39m [\u001b[43mvector_operations\u001b[49m\u001b[43m(\u001b[49m\u001b[38;5;241;43m*\u001b[39;49m\u001b[38;5;241;43m*\u001b[39;49m\u001b[43mx\u001b[49m\u001b[43m)\u001b[49m \u001b[38;5;28;01mfor\u001b[39;00m x \u001b[38;5;129;01min\u001b[39;00m debug_cases]\n\u001b[1;32m      6\u001b[0m answer \u001b[38;5;241m=\u001b[39m [vector_operations(\u001b[38;5;241m*\u001b[39m\u001b[38;5;241m*\u001b[39mx) \u001b[38;5;28;01mfor\u001b[39;00m x \u001b[38;5;129;01min\u001b[39;00m public_cases]\n\u001b[1;32m      8\u001b[0m \u001b[38;5;28mprint\u001b[39m(time\u001b[38;5;241m.\u001b[39mtime() \u001b[38;5;241m-\u001b[39m start, \u001b[38;5;124m'\u001b[39m\u001b[38;5;124m<- Elapsed time\u001b[39m\u001b[38;5;124m'\u001b[39m)\n",
      "Cell \u001b[0;32mIn[9], line 91\u001b[0m, in \u001b[0;36mvector_operations\u001b[0;34m(x, y)\u001b[0m\n\u001b[1;32m     86\u001b[0m answer[\u001b[38;5;124m'\u001b[39m\u001b[38;5;124mb_orth_a\u001b[39m\u001b[38;5;124m'\u001b[39m] \u001b[38;5;241m=\u001b[39m orthogonal(b, a)\n\u001b[1;32m     89\u001b[0m \u001b[38;5;28mprint\u001b[39m(answer)\n\u001b[0;32m---> 91\u001b[0m \u001b[38;5;28;01mreturn\u001b[39;00m \u001b[43mnp\u001b[49m\u001b[38;5;241;43m.\u001b[39;49m\u001b[43marray\u001b[49m\u001b[43m[\u001b[49m\u001b[43manswer\u001b[49m\u001b[43m[\u001b[49m\u001b[38;5;124;43m'\u001b[39;49m\u001b[38;5;124;43mexpression\u001b[39;49m\u001b[38;5;124;43m'\u001b[39;49m\u001b[43m]\u001b[49m\u001b[43m,\u001b[49m\u001b[43m \u001b[49m\u001b[43manswer\u001b[49m\u001b[43m[\u001b[49m\u001b[38;5;124;43m'\u001b[39;49m\u001b[38;5;124;43mdot_prod\u001b[39;49m\u001b[38;5;124;43m'\u001b[39;49m\u001b[43m]\u001b[49m\u001b[43m,\u001b[49m\u001b[43m \u001b[49m\u001b[43manswer\u001b[49m\u001b[43m[\u001b[49m\u001b[38;5;124;43m'\u001b[39;49m\u001b[38;5;124;43mlength_a\u001b[39;49m\u001b[38;5;124;43m'\u001b[39;49m\u001b[43m]\u001b[49m\u001b[43m,\u001b[49m\u001b[43m \u001b[49m\u001b[43manswer\u001b[49m\u001b[43m[\u001b[49m\u001b[38;5;124;43m'\u001b[39;49m\u001b[38;5;124;43mlength_b\u001b[39;49m\u001b[38;5;124;43m'\u001b[39;49m\u001b[43m]\u001b[49m\u001b[43m,\u001b[49m\u001b[43m \u001b[49m\u001b[43manswer\u001b[49m\u001b[43m[\u001b[49m\u001b[38;5;124;43m'\u001b[39;49m\u001b[38;5;124;43mangle\u001b[39;49m\u001b[38;5;124;43m'\u001b[39;49m\u001b[43m]\u001b[49m\u001b[43m,\u001b[49m\u001b[43m \u001b[49m\u001b[43manswer\u001b[49m\u001b[43m[\u001b[49m\u001b[38;5;124;43m'\u001b[39;49m\u001b[38;5;124;43mdir_a\u001b[39;49m\u001b[38;5;124;43m'\u001b[39;49m\u001b[43m]\u001b[49m\u001b[43m,\u001b[49m\u001b[43m \u001b[49m\u001b[43manswer\u001b[49m\u001b[43m[\u001b[49m\u001b[38;5;124;43m'\u001b[39;49m\u001b[38;5;124;43mdir_b\u001b[39;49m\u001b[38;5;124;43m'\u001b[39;49m\u001b[43m]\u001b[49m\u001b[43m,\u001b[49m\u001b[43m \u001b[49m\u001b[43manswer\u001b[49m\u001b[43m[\u001b[49m\u001b[38;5;124;43m'\u001b[39;49m\u001b[38;5;124;43ma_proj_b\u001b[39;49m\u001b[38;5;124;43m'\u001b[39;49m\u001b[43m]\u001b[49m\u001b[43m,\u001b[49m\u001b[43m \u001b[49m\u001b[43manswer\u001b[49m\u001b[43m[\u001b[49m\u001b[38;5;124;43m'\u001b[39;49m\u001b[38;5;124;43mb_proj_a\u001b[39;49m\u001b[38;5;124;43m'\u001b[39;49m\u001b[43m]\u001b[49m\u001b[43m,\u001b[49m\u001b[43m \u001b[49m\u001b[43manswer\u001b[49m\u001b[43m[\u001b[49m\u001b[38;5;124;43m'\u001b[39;49m\u001b[38;5;124;43ma_orth_b\u001b[39;49m\u001b[38;5;124;43m'\u001b[39;49m\u001b[43m]\u001b[49m\u001b[43m,\u001b[49m\u001b[43m \u001b[49m\u001b[43manswer\u001b[49m\u001b[43m[\u001b[49m\u001b[38;5;124;43m'\u001b[39;49m\u001b[38;5;124;43mb_orth_a\u001b[39;49m\u001b[38;5;124;43m'\u001b[39;49m\u001b[43m]\u001b[49m\u001b[43m]\u001b[49m\n",
      "\u001b[0;31mTypeError\u001b[0m: 'builtin_function_or_method' object is not subscriptable"
     ]
    }
   ],
   "source": [
    "import time\n",
    "\n",
    "start = time.time()\n",
    "\n",
    "debug_result = [vector_operations(**x) for x in debug_cases]\n",
    "answer = [vector_operations(**x) for x in public_cases]\n",
    "\n",
    "print(time.time() - start, '<- Elapsed time')"
   ]
  }
 ],
 "metadata": {
  "kernelspec": {
   "display_name": "Python 3",
   "language": "python",
   "name": "python3"
  },
  "language_info": {
   "codemirror_mode": {
    "name": "ipython",
    "version": 3
   },
   "file_extension": ".py",
   "mimetype": "text/x-python",
   "name": "python",
   "nbconvert_exporter": "python",
   "pygments_lexer": "ipython3",
   "version": "3.11.3"
  }
 },
 "nbformat": 4,
 "nbformat_minor": 2
}
