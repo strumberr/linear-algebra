{
 "cells": [
  {
   "cell_type": "code",
   "execution_count": 2,
   "metadata": {},
   "outputs": [],
   "source": [
    "%reload_ext autoreload\n",
    "%autoreload 2\n",
    "\n",
    "import sys\n",
    "import os\n",
    "from pathlib import Path\n",
    "import json_tricks\n",
    "\n",
    "path = Path('.').resolve()\n",
    "\n",
    "index = str(path).find('.laborantum')\n",
    "\n",
    "if index > 0:\n",
    "    path = str(path)[:index]\n",
    "\n",
    "os.chdir(path)\n",
    "\n",
    "path = Path(\".laborantum/texts/Homeworks/4. Linear Transforms/10. Inversion Matrix\")\n",
    "\n",
    "debug_cases = json_tricks.load(\n",
    "    str(path / 'testcases' / 'debug_cases.json'))\n",
    "public_cases = json_tricks.load(\n",
    "    str(path / 'testcases' / 'public_cases.json'))"
   ]
  },
  {
   "cell_type": "code",
   "execution_count": 3,
   "metadata": {},
   "outputs": [],
   "source": [
    "import numpy as np\n",
    "\n",
    "def inversion(N):\n",
    "    # YOUR CODE HERE\n",
    "    return 0"
   ]
  },
  {
   "cell_type": "code",
   "execution_count": 4,
   "metadata": {},
   "outputs": [
    {
     "name": "stdout",
     "output_type": "stream",
     "text": [
      "7\n",
      "15\n",
      "11\n",
      "8\n",
      "7\n",
      "19\n",
      "11\n",
      "11\n",
      "4\n",
      "8\n",
      "3\n",
      "2\n",
      "12\n",
      "6\n",
      "2\n",
      "1\n",
      "12\n",
      "12\n",
      "17\n",
      "10\n",
      "16\n",
      "15\n",
      "15\n",
      "19\n",
      "12\n",
      "3\n",
      "5\n",
      "19\n",
      "7\n",
      "9\n",
      "7\n",
      "18\n",
      "4\n",
      "14\n",
      "18\n",
      "9\n",
      "2\n",
      "15\n",
      "7\n",
      "12\n",
      "0.0005681514739990234 <- Elapsed time\n"
     ]
    }
   ],
   "source": [
    "import time\n",
    "\n",
    "start = time.time()\n",
    "\n",
    "debug_result = [inversion(**x) for x in debug_cases]\n",
    "answer = [inversion(**x) for x in public_cases]\n",
    "\n",
    "print(time.time() - start, '<- Elapsed time')"
   ]
  },
  {
   "cell_type": "code",
   "execution_count": null,
   "metadata": {},
   "outputs": [],
   "source": []
  }
 ],
 "metadata": {
  "kernelspec": {
   "display_name": "Python 3",
   "language": "python",
   "name": "python3"
  },
  "language_info": {
   "codemirror_mode": {
    "name": "ipython",
    "version": 3
   },
   "file_extension": ".py",
   "mimetype": "text/x-python",
   "name": "python",
   "nbconvert_exporter": "python",
   "pygments_lexer": "ipython3",
   "version": "3.9.6"
  }
 },
 "nbformat": 4,
 "nbformat_minor": 2
}
